{
 "cells": [
  {
   "cell_type": "markdown",
   "metadata": {},
   "source": [
    "# Diabetes Prediction Using Linear Regression "
   ]
  },
  {
   "cell_type": "code",
   "execution_count": 1,
   "metadata": {},
   "outputs": [],
   "source": [
    "import numpy as np\n",
    "from sklearn import datasets, linear_model, metrics"
   ]
  },
  {
   "cell_type": "markdown",
   "metadata": {},
   "source": [
    "## Load Data  "
   ]
  },
  {
   "cell_type": "code",
   "execution_count": 2,
   "metadata": {},
   "outputs": [],
   "source": [
    "## Load the diabetes dataset\n",
    "diabetes = datasets.load_diabetes()\n",
    "diabetes_X = diabetes.data # matrix of dimensions 442x10\n",
    " \n",
    "# Split the data into training/testing sets\n",
    "diabetes_X_train = diabetes_X[:-20]\n",
    "diabetes_X_test = diabetes_X[-20:]\n",
    " \n",
    "# Split the targets into training/testing sets\n",
    "diabetes_y_train = diabetes.target[:-20]\n",
    "diabetes_y_test = diabetes.target[-20:] "
   ]
  },
  {
   "cell_type": "markdown",
   "metadata": {},
   "source": [
    "## Train"
   ]
  },
  {
   "cell_type": "code",
   "execution_count": 8,
   "metadata": {},
   "outputs": [
    {
     "name": "stdout",
     "output_type": "stream",
     "text": [
      "Epoch 0: 29467.993019\n",
      "Epoch 5000: 3048.187874\n",
      "Epoch 10000: 2941.407792\n",
      "Epoch 15000: 2927.452395\n",
      "Epoch 20000: 2924.747783\n",
      "Epoch 25000: 2923.790614\n",
      "Epoch 30000: 2923.191092\n",
      "Epoch 35000: 2922.690007\n",
      "Epoch 40000: 2922.227022\n",
      "Epoch 45000: 2921.785335\n",
      "Epoch 50000: 2921.359340\n",
      "Epoch 55000: 2920.946656\n",
      "Epoch 60000: 2920.545940\n",
      "Epoch 65000: 2920.156246\n",
      "Epoch 70000: 2919.776825\n",
      "Epoch 75000: 2919.407043\n",
      "Epoch 80000: 2919.046357\n",
      "Epoch 85000: 2918.694293\n",
      "Epoch 90000: 2918.350435\n",
      "Epoch 95000: 2918.014415\n"
     ]
    }
   ],
   "source": [
    "# train\n",
    "X = diabetes_X_train\n",
    "y = diabetes_y_train\n",
    " \n",
    "# train: init\n",
    "W = np.random.uniform(low=-0.1, high=0.1, size=diabetes_X.shape[1])\n",
    "b = 0.0\n",
    " \n",
    "learning_rate = 0.1\n",
    "epochs = 100000\n",
    " \n",
    "# train: gradient descent\n",
    "for i in range(epochs):\n",
    "    # calculate predictions\n",
    "    y_predict = X.dot(W) + b\n",
    " \n",
    "    # calculate error and cost (mean squared error)\n",
    "    error = y - y_predict\n",
    "    mean_squared_error = np.mean(np.power(error, 2))\n",
    " \n",
    "    # calculate gradients\n",
    "    W_gradient = -(1.0/len(X)) * error.dot(X)\n",
    "    b_gradient = -(1.0/len(X)) * np.sum(error)\n",
    " \n",
    "    # update parameters\n",
    "    W = W - (learning_rate * W_gradient)\n",
    "    b = b - (learning_rate * b_gradient)\n",
    " \n",
    "    # diagnostic output\n",
    "    if i % 5000 == 0: \n",
    "        print(\"Epoch %d: %f\" % (i, mean_squared_error))"
   ]
  },
  {
   "cell_type": "markdown",
   "metadata": {},
   "source": [
    "## Test"
   ]
  },
  {
   "cell_type": "code",
   "execution_count": 6,
   "metadata": {},
   "outputs": [
    {
     "name": "stdout",
     "output_type": "stream",
     "text": [
      "Mean squared error: 2125.12\n",
      "========================================================================================================================\n"
     ]
    }
   ],
   "source": [
    "X = diabetes_X_test\n",
    "y = diabetes_y_test\n",
    " \n",
    "y_predict = X.dot(W) + b\n",
    "error = y - y_predict\n",
    "mean_squared_error = np.mean(np.power(error, 2))\n",
    "print(\"Mean squared error: %.2f\" % mean_squared_error)\n",
    "print(\"=\"*120)"
   ]
  },
  {
   "cell_type": "code",
   "execution_count": null,
   "metadata": {},
   "outputs": [],
   "source": []
  }
 ],
 "metadata": {
  "kernelspec": {
   "display_name": "Python 3",
   "language": "python",
   "name": "python3"
  },
  "language_info": {
   "codemirror_mode": {
    "name": "ipython",
    "version": 3
   },
   "file_extension": ".py",
   "mimetype": "text/x-python",
   "name": "python",
   "nbconvert_exporter": "python",
   "pygments_lexer": "ipython3",
   "version": "3.6.5"
  }
 },
 "nbformat": 4,
 "nbformat_minor": 2
}
